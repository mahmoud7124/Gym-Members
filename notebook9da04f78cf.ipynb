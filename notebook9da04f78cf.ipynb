{
 "cells": [
  {
   "cell_type": "code",
   "execution_count": 1,
   "id": "ad4505b7",
   "metadata": {
    "execution": {
     "iopub.execute_input": "2024-11-20T11:54:32.945095Z",
     "iopub.status.busy": "2024-11-20T11:54:32.944678Z",
     "iopub.status.idle": "2024-11-20T11:54:35.339314Z",
     "shell.execute_reply": "2024-11-20T11:54:35.338329Z"
    },
    "papermill": {
     "duration": 2.403317,
     "end_time": "2024-11-20T11:54:35.341756",
     "exception": false,
     "start_time": "2024-11-20T11:54:32.938439",
     "status": "completed"
    },
    "tags": []
   },
   "outputs": [],
   "source": [
    "import warnings\n",
    "warnings.filterwarnings('ignore')\n",
    "\n",
    "import numpy as np\n",
    "import pandas as pd\n",
    "import matplotlib.pyplot as plt\n",
    "import seaborn as sns"
   ]
  },
  {
   "cell_type": "code",
   "execution_count": 2,
   "id": "5a9d4561",
   "metadata": {
    "execution": {
     "iopub.execute_input": "2024-11-20T11:54:35.352253Z",
     "iopub.status.busy": "2024-11-20T11:54:35.351303Z",
     "iopub.status.idle": "2024-11-20T11:54:35.375867Z",
     "shell.execute_reply": "2024-11-20T11:54:35.374747Z"
    },
    "papermill": {
     "duration": 0.032313,
     "end_time": "2024-11-20T11:54:35.378382",
     "exception": false,
     "start_time": "2024-11-20T11:54:35.346069",
     "status": "completed"
    },
    "tags": []
   },
   "outputs": [],
   "source": [
    "data = pd.read_csv(r'/kaggle/input/gym-members-exercise-dataset/gym_members_exercise_tracking.csv')"
   ]
  },
  {
   "cell_type": "code",
   "execution_count": 3,
   "id": "bc0da3f9",
   "metadata": {
    "execution": {
     "iopub.execute_input": "2024-11-20T11:54:35.387794Z",
     "iopub.status.busy": "2024-11-20T11:54:35.387437Z",
     "iopub.status.idle": "2024-11-20T11:54:35.414815Z",
     "shell.execute_reply": "2024-11-20T11:54:35.413739Z"
    },
    "papermill": {
     "duration": 0.03469,
     "end_time": "2024-11-20T11:54:35.416990",
     "exception": false,
     "start_time": "2024-11-20T11:54:35.382300",
     "status": "completed"
    },
    "tags": []
   },
   "outputs": [
    {
     "data": {
      "text/html": [
       "<div>\n",
       "<style scoped>\n",
       "    .dataframe tbody tr th:only-of-type {\n",
       "        vertical-align: middle;\n",
       "    }\n",
       "\n",
       "    .dataframe tbody tr th {\n",
       "        vertical-align: top;\n",
       "    }\n",
       "\n",
       "    .dataframe thead th {\n",
       "        text-align: right;\n",
       "    }\n",
       "</style>\n",
       "<table border=\"1\" class=\"dataframe\">\n",
       "  <thead>\n",
       "    <tr style=\"text-align: right;\">\n",
       "      <th></th>\n",
       "      <th>Age</th>\n",
       "      <th>Gender</th>\n",
       "      <th>Weight (kg)</th>\n",
       "      <th>Height (m)</th>\n",
       "      <th>Max_BPM</th>\n",
       "      <th>Avg_BPM</th>\n",
       "      <th>Resting_BPM</th>\n",
       "      <th>Session_Duration (hours)</th>\n",
       "      <th>Calories_Burned</th>\n",
       "      <th>Workout_Type</th>\n",
       "      <th>Fat_Percentage</th>\n",
       "      <th>Water_Intake (liters)</th>\n",
       "      <th>Workout_Frequency (days/week)</th>\n",
       "      <th>Experience_Level</th>\n",
       "      <th>BMI</th>\n",
       "    </tr>\n",
       "  </thead>\n",
       "  <tbody>\n",
       "    <tr>\n",
       "      <th>0</th>\n",
       "      <td>56</td>\n",
       "      <td>Male</td>\n",
       "      <td>88.3</td>\n",
       "      <td>1.71</td>\n",
       "      <td>180</td>\n",
       "      <td>157</td>\n",
       "      <td>60</td>\n",
       "      <td>1.69</td>\n",
       "      <td>1313.0</td>\n",
       "      <td>Yoga</td>\n",
       "      <td>12.6</td>\n",
       "      <td>3.5</td>\n",
       "      <td>4</td>\n",
       "      <td>3</td>\n",
       "      <td>30.20</td>\n",
       "    </tr>\n",
       "    <tr>\n",
       "      <th>1</th>\n",
       "      <td>46</td>\n",
       "      <td>Female</td>\n",
       "      <td>74.9</td>\n",
       "      <td>1.53</td>\n",
       "      <td>179</td>\n",
       "      <td>151</td>\n",
       "      <td>66</td>\n",
       "      <td>1.30</td>\n",
       "      <td>883.0</td>\n",
       "      <td>HIIT</td>\n",
       "      <td>33.9</td>\n",
       "      <td>2.1</td>\n",
       "      <td>4</td>\n",
       "      <td>2</td>\n",
       "      <td>32.00</td>\n",
       "    </tr>\n",
       "    <tr>\n",
       "      <th>2</th>\n",
       "      <td>32</td>\n",
       "      <td>Female</td>\n",
       "      <td>68.1</td>\n",
       "      <td>1.66</td>\n",
       "      <td>167</td>\n",
       "      <td>122</td>\n",
       "      <td>54</td>\n",
       "      <td>1.11</td>\n",
       "      <td>677.0</td>\n",
       "      <td>Cardio</td>\n",
       "      <td>33.4</td>\n",
       "      <td>2.3</td>\n",
       "      <td>4</td>\n",
       "      <td>2</td>\n",
       "      <td>24.71</td>\n",
       "    </tr>\n",
       "    <tr>\n",
       "      <th>3</th>\n",
       "      <td>25</td>\n",
       "      <td>Male</td>\n",
       "      <td>53.2</td>\n",
       "      <td>1.70</td>\n",
       "      <td>190</td>\n",
       "      <td>164</td>\n",
       "      <td>56</td>\n",
       "      <td>0.59</td>\n",
       "      <td>532.0</td>\n",
       "      <td>Strength</td>\n",
       "      <td>28.8</td>\n",
       "      <td>2.1</td>\n",
       "      <td>3</td>\n",
       "      <td>1</td>\n",
       "      <td>18.41</td>\n",
       "    </tr>\n",
       "    <tr>\n",
       "      <th>4</th>\n",
       "      <td>38</td>\n",
       "      <td>Male</td>\n",
       "      <td>46.1</td>\n",
       "      <td>1.79</td>\n",
       "      <td>188</td>\n",
       "      <td>158</td>\n",
       "      <td>68</td>\n",
       "      <td>0.64</td>\n",
       "      <td>556.0</td>\n",
       "      <td>Strength</td>\n",
       "      <td>29.2</td>\n",
       "      <td>2.8</td>\n",
       "      <td>3</td>\n",
       "      <td>1</td>\n",
       "      <td>14.39</td>\n",
       "    </tr>\n",
       "  </tbody>\n",
       "</table>\n",
       "</div>"
      ],
      "text/plain": [
       "   Age  Gender  Weight (kg)  Height (m)  Max_BPM  Avg_BPM  Resting_BPM  \\\n",
       "0   56    Male         88.3        1.71      180      157           60   \n",
       "1   46  Female         74.9        1.53      179      151           66   \n",
       "2   32  Female         68.1        1.66      167      122           54   \n",
       "3   25    Male         53.2        1.70      190      164           56   \n",
       "4   38    Male         46.1        1.79      188      158           68   \n",
       "\n",
       "   Session_Duration (hours)  Calories_Burned Workout_Type  Fat_Percentage  \\\n",
       "0                      1.69           1313.0         Yoga            12.6   \n",
       "1                      1.30            883.0         HIIT            33.9   \n",
       "2                      1.11            677.0       Cardio            33.4   \n",
       "3                      0.59            532.0     Strength            28.8   \n",
       "4                      0.64            556.0     Strength            29.2   \n",
       "\n",
       "   Water_Intake (liters)  Workout_Frequency (days/week)  Experience_Level  \\\n",
       "0                    3.5                              4                 3   \n",
       "1                    2.1                              4                 2   \n",
       "2                    2.3                              4                 2   \n",
       "3                    2.1                              3                 1   \n",
       "4                    2.8                              3                 1   \n",
       "\n",
       "     BMI  \n",
       "0  30.20  \n",
       "1  32.00  \n",
       "2  24.71  \n",
       "3  18.41  \n",
       "4  14.39  "
      ]
     },
     "execution_count": 3,
     "metadata": {},
     "output_type": "execute_result"
    }
   ],
   "source": [
    "data.head()"
   ]
  },
  {
   "cell_type": "code",
   "execution_count": 4,
   "id": "0b8a0a3b",
   "metadata": {
    "execution": {
     "iopub.execute_input": "2024-11-20T11:54:35.426925Z",
     "iopub.status.busy": "2024-11-20T11:54:35.426526Z",
     "iopub.status.idle": "2024-11-20T11:54:35.451212Z",
     "shell.execute_reply": "2024-11-20T11:54:35.450059Z"
    },
    "papermill": {
     "duration": 0.032072,
     "end_time": "2024-11-20T11:54:35.453415",
     "exception": false,
     "start_time": "2024-11-20T11:54:35.421343",
     "status": "completed"
    },
    "tags": []
   },
   "outputs": [
    {
     "name": "stdout",
     "output_type": "stream",
     "text": [
      "<class 'pandas.core.frame.DataFrame'>\n",
      "RangeIndex: 973 entries, 0 to 972\n",
      "Data columns (total 15 columns):\n",
      " #   Column                         Non-Null Count  Dtype  \n",
      "---  ------                         --------------  -----  \n",
      " 0   Age                            973 non-null    int64  \n",
      " 1   Gender                         973 non-null    object \n",
      " 2   Weight (kg)                    973 non-null    float64\n",
      " 3   Height (m)                     973 non-null    float64\n",
      " 4   Max_BPM                        973 non-null    int64  \n",
      " 5   Avg_BPM                        973 non-null    int64  \n",
      " 6   Resting_BPM                    973 non-null    int64  \n",
      " 7   Session_Duration (hours)       973 non-null    float64\n",
      " 8   Calories_Burned                973 non-null    float64\n",
      " 9   Workout_Type                   973 non-null    object \n",
      " 10  Fat_Percentage                 973 non-null    float64\n",
      " 11  Water_Intake (liters)          973 non-null    float64\n",
      " 12  Workout_Frequency (days/week)  973 non-null    int64  \n",
      " 13  Experience_Level               973 non-null    int64  \n",
      " 14  BMI                            973 non-null    float64\n",
      "dtypes: float64(7), int64(6), object(2)\n",
      "memory usage: 114.1+ KB\n"
     ]
    }
   ],
   "source": [
    "data.info()"
   ]
  },
  {
   "cell_type": "code",
   "execution_count": 5,
   "id": "fdf7b071",
   "metadata": {
    "execution": {
     "iopub.execute_input": "2024-11-20T11:54:35.463698Z",
     "iopub.status.busy": "2024-11-20T11:54:35.462913Z",
     "iopub.status.idle": "2024-11-20T11:54:35.470773Z",
     "shell.execute_reply": "2024-11-20T11:54:35.469861Z"
    },
    "papermill": {
     "duration": 0.015185,
     "end_time": "2024-11-20T11:54:35.472887",
     "exception": false,
     "start_time": "2024-11-20T11:54:35.457702",
     "status": "completed"
    },
    "tags": []
   },
   "outputs": [
    {
     "data": {
      "text/plain": [
       "Workout_Type\n",
       "Strength    258\n",
       "Cardio      255\n",
       "Yoga        239\n",
       "HIIT        221\n",
       "Name: count, dtype: int64"
      ]
     },
     "execution_count": 5,
     "metadata": {},
     "output_type": "execute_result"
    }
   ],
   "source": [
    "data['Workout_Type'].value_counts()"
   ]
  },
  {
   "cell_type": "code",
   "execution_count": 6,
   "id": "96ab9499",
   "metadata": {
    "execution": {
     "iopub.execute_input": "2024-11-20T11:54:35.483977Z",
     "iopub.status.busy": "2024-11-20T11:54:35.483148Z",
     "iopub.status.idle": "2024-11-20T11:54:35.491188Z",
     "shell.execute_reply": "2024-11-20T11:54:35.490191Z"
    },
    "papermill": {
     "duration": 0.015797,
     "end_time": "2024-11-20T11:54:35.493171",
     "exception": false,
     "start_time": "2024-11-20T11:54:35.477374",
     "status": "completed"
    },
    "tags": []
   },
   "outputs": [
    {
     "data": {
      "text/plain": [
       "Gender\n",
       "Male      511\n",
       "Female    462\n",
       "Name: count, dtype: int64"
      ]
     },
     "execution_count": 6,
     "metadata": {},
     "output_type": "execute_result"
    }
   ],
   "source": [
    "data['Gender'].value_counts()"
   ]
  },
  {
   "cell_type": "code",
   "execution_count": 7,
   "id": "6f5c8abe",
   "metadata": {
    "execution": {
     "iopub.execute_input": "2024-11-20T11:54:35.503928Z",
     "iopub.status.busy": "2024-11-20T11:54:35.503269Z",
     "iopub.status.idle": "2024-11-20T11:54:35.682491Z",
     "shell.execute_reply": "2024-11-20T11:54:35.681340Z"
    },
    "papermill": {
     "duration": 0.187948,
     "end_time": "2024-11-20T11:54:35.685632",
     "exception": false,
     "start_time": "2024-11-20T11:54:35.497684",
     "status": "completed"
    },
    "tags": []
   },
   "outputs": [
    {
     "data": {
      "image/png": "[encoded data removed]",
      "text/plain": [
       "<Figure size 640x480 with 1 Axes>"
      ]
     },
     "metadata": {},
     "output_type": "display_data"
    }
   ],
   "source": [
    "plt.pie(data['Gender'].value_counts() , labels = data['Gender'].unique() , explode= [0.01,0.01])\n",
    "plt.legend(title = \"Gender\")\n",
    "plt.show()"
   ]
  },
  {
   "cell_type": "code",
   "execution_count": 8,
   "id": "d7c406dc",
   "metadata": {
    "execution": {
     "iopub.execute_input": "2024-11-20T11:54:35.706360Z",
     "iopub.status.busy": "2024-11-20T11:54:35.705641Z",
     "iopub.status.idle": "2024-11-20T11:54:35.717065Z",
     "shell.execute_reply": "2024-11-20T11:54:35.716052Z"
    },
    "papermill": {
     "duration": 0.024121,
     "end_time": "2024-11-20T11:54:35.719816",
     "exception": false,
     "start_time": "2024-11-20T11:54:35.695695",
     "status": "completed"
    },
    "tags": []
   },
   "outputs": [
    {
     "data": {
      "text/plain": [
       "0"
      ]
     },
     "execution_count": 8,
     "metadata": {},
     "output_type": "execute_result"
    }
   ],
   "source": [
    "data.duplicated().sum()"
   ]
  },
  {
   "cell_type": "code",
   "execution_count": 9,
   "id": "e56c5d86",
   "metadata": {
    "execution": {
     "iopub.execute_input": "2024-11-20T11:54:35.736218Z",
     "iopub.status.busy": "2024-11-20T11:54:35.735511Z",
     "iopub.status.idle": "2024-11-20T11:54:35.775947Z",
     "shell.execute_reply": "2024-11-20T11:54:35.774806Z"
    },
    "papermill": {
     "duration": 0.049643,
     "end_time": "2024-11-20T11:54:35.778094",
     "exception": false,
     "start_time": "2024-11-20T11:54:35.728451",
     "status": "completed"
    },
    "tags": []
   },
   "outputs": [
    {
     "data": {
      "text/html": [
       "<div>\n",
       "<style scoped>\n",
       "    .dataframe tbody tr th:only-of-type {\n",
       "        vertical-align: middle;\n",
       "    }\n",
       "\n",
       "    .dataframe tbody tr th {\n",
       "        vertical-align: top;\n",
       "    }\n",
       "\n",
       "    .dataframe thead th {\n",
       "        text-align: right;\n",
       "    }\n",
       "</style>\n",
       "<table border=\"1\" class=\"dataframe\">\n",
       "  <thead>\n",
       "    <tr style=\"text-align: right;\">\n",
       "      <th></th>\n",
       "      <th>count</th>\n",
       "      <th>mean</th>\n",
       "      <th>std</th>\n",
       "      <th>min</th>\n",
       "      <th>25%</th>\n",
       "      <th>50%</th>\n",
       "      <th>75%</th>\n",
       "      <th>max</th>\n",
       "    </tr>\n",
       "  </thead>\n",
       "  <tbody>\n",
       "    <tr>\n",
       "      <th>Age</th>\n",
       "      <td>973.0</td>\n",
       "      <td>38.683453</td>\n",
       "      <td>12.180928</td>\n",
       "      <td>18.00</td>\n",
       "      <td>28.00</td>\n",
       "      <td>40.00</td>\n",
       "      <td>49.00</td>\n",
       "      <td>59.00</td>\n",
       "    </tr>\n",
       "    <tr>\n",
       "      <th>Weight (kg)</th>\n",
       "      <td>973.0</td>\n",
       "      <td>73.854676</td>\n",
       "      <td>21.207500</td>\n",
       "      <td>40.00</td>\n",
       "      <td>58.10</td>\n",
       "      <td>70.00</td>\n",
       "      <td>86.00</td>\n",
       "      <td>129.90</td>\n",
       "    </tr>\n",
       "    <tr>\n",
       "      <th>Height (m)</th>\n",
       "      <td>973.0</td>\n",
       "      <td>1.722580</td>\n",
       "      <td>0.127720</td>\n",
       "      <td>1.50</td>\n",
       "      <td>1.62</td>\n",
       "      <td>1.71</td>\n",
       "      <td>1.80</td>\n",
       "      <td>2.00</td>\n",
       "    </tr>\n",
       "    <tr>\n",
       "      <th>Max_BPM</th>\n",
       "      <td>973.0</td>\n",
       "      <td>179.883864</td>\n",
       "      <td>11.525686</td>\n",
       "      <td>160.00</td>\n",
       "      <td>170.00</td>\n",
       "      <td>180.00</td>\n",
       "      <td>190.00</td>\n",
       "      <td>199.00</td>\n",
       "    </tr>\n",
       "    <tr>\n",
       "      <th>Avg_BPM</th>\n",
       "      <td>973.0</td>\n",
       "      <td>143.766701</td>\n",
       "      <td>14.345101</td>\n",
       "      <td>120.00</td>\n",
       "      <td>131.00</td>\n",
       "      <td>143.00</td>\n",
       "      <td>156.00</td>\n",
       "      <td>169.00</td>\n",
       "    </tr>\n",
       "    <tr>\n",
       "      <th>Resting_BPM</th>\n",
       "      <td>973.0</td>\n",
       "      <td>62.223022</td>\n",
       "      <td>7.327060</td>\n",
       "      <td>50.00</td>\n",
       "      <td>56.00</td>\n",
       "      <td>62.00</td>\n",
       "      <td>68.00</td>\n",
       "      <td>74.00</td>\n",
       "    </tr>\n",
       "    <tr>\n",
       "      <th>Session_Duration (hours)</th>\n",
       "      <td>973.0</td>\n",
       "      <td>1.256423</td>\n",
       "      <td>0.343033</td>\n",
       "      <td>0.50</td>\n",
       "      <td>1.04</td>\n",
       "      <td>1.26</td>\n",
       "      <td>1.46</td>\n",
       "      <td>2.00</td>\n",
       "    </tr>\n",
       "    <tr>\n",
       "      <th>Calories_Burned</th>\n",
       "      <td>973.0</td>\n",
       "      <td>905.422405</td>\n",
       "      <td>272.641516</td>\n",
       "      <td>303.00</td>\n",
       "      <td>720.00</td>\n",
       "      <td>893.00</td>\n",
       "      <td>1076.00</td>\n",
       "      <td>1783.00</td>\n",
       "    </tr>\n",
       "    <tr>\n",
       "      <th>Fat_Percentage</th>\n",
       "      <td>973.0</td>\n",
       "      <td>24.976773</td>\n",
       "      <td>6.259419</td>\n",
       "      <td>10.00</td>\n",
       "      <td>21.30</td>\n",
       "      <td>26.20</td>\n",
       "      <td>29.30</td>\n",
       "      <td>35.00</td>\n",
       "    </tr>\n",
       "    <tr>\n",
       "      <th>Water_Intake (liters)</th>\n",
       "      <td>973.0</td>\n",
       "      <td>2.626619</td>\n",
       "      <td>0.600172</td>\n",
       "      <td>1.50</td>\n",
       "      <td>2.20</td>\n",
       "      <td>2.60</td>\n",
       "      <td>3.10</td>\n",
       "      <td>3.70</td>\n",
       "    </tr>\n",
       "    <tr>\n",
       "      <th>Workout_Frequency (days/week)</th>\n",
       "      <td>973.0</td>\n",
       "      <td>3.321686</td>\n",
       "      <td>0.913047</td>\n",
       "      <td>2.00</td>\n",
       "      <td>3.00</td>\n",
       "      <td>3.00</td>\n",
       "      <td>4.00</td>\n",
       "      <td>5.00</td>\n",
       "    </tr>\n",
       "    <tr>\n",
       "      <th>Experience_Level</th>\n",
       "      <td>973.0</td>\n",
       "      <td>1.809866</td>\n",
       "      <td>0.739693</td>\n",
       "      <td>1.00</td>\n",
       "      <td>1.00</td>\n",
       "      <td>2.00</td>\n",
       "      <td>2.00</td>\n",
       "      <td>3.00</td>\n",
       "    </tr>\n",
       "    <tr>\n",
       "      <th>BMI</th>\n",
       "      <td>973.0</td>\n",
       "      <td>24.912127</td>\n",
       "      <td>6.660879</td>\n",
       "      <td>12.32</td>\n",
       "      <td>20.11</td>\n",
       "      <td>24.16</td>\n",
       "      <td>28.56</td>\n",
       "      <td>49.84</td>\n",
       "    </tr>\n",
       "  </tbody>\n",
       "</table>\n",
       "</div>"
      ],
      "text/plain": [
       "                               count        mean         std     min     25%  \\\n",
       "Age                            973.0   38.683453   12.180928   18.00   28.00   \n",
       "Weight (kg)                    973.0   73.854676   21.207500   40.00   58.10   \n",
       "Height (m)                     973.0    1.722580    0.127720    1.50    1.62   \n",
       "Max_BPM                        973.0  179.883864   11.525686  160.00  170.00   \n",
       "Avg_BPM                        973.0  143.766701   14.345101  120.00  131.00   \n",
       "Resting_BPM                    973.0   62.223022    7.327060   50.00   56.00   \n",
       "Session_Duration (hours)       973.0    1.256423    0.343033    0.50    1.04   \n",
       "Calories_Burned                973.0  905.422405  272.641516  303.00  720.00   \n",
       "Fat_Percentage                 973.0   24.976773    6.259419   10.00   21.30   \n",
       "Water_Intake (liters)          973.0    2.626619    0.600172    1.50    2.20   \n",
       "Workout_Frequency (days/week)  973.0    3.321686    0.913047    2.00    3.00   \n",
       "Experience_Level               973.0    1.809866    0.739693    1.00    1.00   \n",
       "BMI                            973.0   24.912127    6.660879   12.32   20.11   \n",
       "\n",
       "                                  50%      75%      max  \n",
       "Age                             40.00    49.00    59.00  \n",
       "Weight (kg)                     70.00    86.00   129.90  \n",
       "Height (m)                       1.71     1.80     2.00  \n",
       "Max_BPM                        180.00   190.00   199.00  \n",
       "Avg_BPM                        143.00   156.00   169.00  \n",
       "Resting_BPM                     62.00    68.00    74.00  \n",
       "Session_Duration (hours)         1.26     1.46     2.00  \n",
       "Calories_Burned                893.00  1076.00  1783.00  \n",
       "Fat_Percentage                  26.20    29.30    35.00  \n",
       "Water_Intake (liters)            2.60     3.10     3.70  \n",
       "Workout_Frequency (days/week)    3.00     4.00     5.00  \n",
       "Experience_Level                 2.00     2.00     3.00  \n",
       "BMI                             24.16    28.56    49.84  "
      ]
     },
     "execution_count": 9,
     "metadata": {},
     "output_type": "execute_result"
    }
   ],
   "source": [
    "data.describe().T"
   ]
  },
  {
   "cell_type": "code",
   "execution_count": 10,
   "id": "2c7edf69",
   "metadata": {
    "execution": {
     "iopub.execute_input": "2024-11-20T11:54:35.790481Z",
     "iopub.status.busy": "2024-11-20T11:54:35.789631Z",
     "iopub.status.idle": "2024-11-20T11:54:35.958769Z",
     "shell.execute_reply": "2024-11-20T11:54:35.957609Z"
    },
    "papermill": {
     "duration": 0.178403,
     "end_time": "2024-11-20T11:54:35.961772",
     "exception": false,
     "start_time": "2024-11-20T11:54:35.783369",
     "status": "completed"
    },
    "tags": []
   },
   "outputs": [
    {
     "data": {
      "text/plain": [
       "<Axes: xlabel='Age'>"
      ]
     },
     "execution_count": 10,
     "metadata": {},
     "output_type": "execute_result"
    },
    {
     "data": {
      "image/png": "[encoded data removed]",
      "text/plain": [
       "<Figure size 640x480 with 1 Axes>"
      ]
     },
     "metadata": {},
     "output_type": "display_data"
    }
   ],
   "source": [
    "sns.boxplot(data=data, x=\"Age\")"
   ]
  },
  {
   "cell_type": "code",
   "execution_count": 11,
   "id": "c11de9f0",
   "metadata": {
    "execution": {
     "iopub.execute_input": "2024-11-20T11:54:35.975057Z",
     "iopub.status.busy": "2024-11-20T11:54:35.974177Z",
     "iopub.status.idle": "2024-11-20T11:54:35.981271Z",
     "shell.execute_reply": "2024-11-20T11:54:35.980218Z"
    },
    "papermill": {
     "duration": 0.016085,
     "end_time": "2024-11-20T11:54:35.983484",
     "exception": false,
     "start_time": "2024-11-20T11:54:35.967399",
     "status": "completed"
    },
    "tags": []
   },
   "outputs": [],
   "source": [
    "data['Gender'].replace({'Male':1 , \"Female\":0}, inplace=True)"
   ]
  },
  {
   "cell_type": "code",
   "execution_count": 12,
   "id": "d6044059",
   "metadata": {
    "execution": {
     "iopub.execute_input": "2024-11-20T11:54:35.996749Z",
     "iopub.status.busy": "2024-11-20T11:54:35.995804Z",
     "iopub.status.idle": "2024-11-20T11:54:36.159443Z",
     "shell.execute_reply": "2024-11-20T11:54:36.158594Z"
    },
    "papermill": {
     "duration": 0.172707,
     "end_time": "2024-11-20T11:54:36.161783",
     "exception": false,
     "start_time": "2024-11-20T11:54:35.989076",
     "status": "completed"
    },
    "tags": []
   },
   "outputs": [],
   "source": [
    "from sklearn.preprocessing import LabelEncoder\n",
    "lb = LabelEncoder()\n",
    "data['Workout_Type'] = lb.fit_transform(data['Workout_Type'])"
   ]
  },
  {
   "cell_type": "code",
   "execution_count": 13,
   "id": "ab232154",
   "metadata": {
    "execution": {
     "iopub.execute_input": "2024-11-20T11:54:36.174631Z",
     "iopub.status.busy": "2024-11-20T11:54:36.173805Z",
     "iopub.status.idle": "2024-11-20T11:54:36.181559Z",
     "shell.execute_reply": "2024-11-20T11:54:36.180495Z"
    },
    "papermill": {
     "duration": 0.016287,
     "end_time": "2024-11-20T11:54:36.183552",
     "exception": false,
     "start_time": "2024-11-20T11:54:36.167265",
     "status": "completed"
    },
    "tags": []
   },
   "outputs": [],
   "source": [
    "x = data.drop('BMI' , axis=1)\n",
    "y = data['BMI']"
   ]
  },
  {
   "cell_type": "code",
   "execution_count": 14,
   "id": "8cd71a11",
   "metadata": {
    "execution": {
     "iopub.execute_input": "2024-11-20T11:54:36.196236Z",
     "iopub.status.busy": "2024-11-20T11:54:36.195473Z",
     "iopub.status.idle": "2024-11-20T11:54:36.301671Z",
     "shell.execute_reply": "2024-11-20T11:54:36.300576Z"
    },
    "papermill": {
     "duration": 0.115073,
     "end_time": "2024-11-20T11:54:36.304061",
     "exception": false,
     "start_time": "2024-11-20T11:54:36.188988",
     "status": "completed"
    },
    "tags": []
   },
   "outputs": [],
   "source": [
    "# split model\n",
    "from sklearn.model_selection import train_test_split\n",
    "x_train , x_test , y_train , y_test = train_test_split(x , y , test_size=0.3 , random_state=42)"
   ]
  },
  {
   "cell_type": "code",
   "execution_count": 15,
   "id": "489fbccb",
   "metadata": {
    "execution": {
     "iopub.execute_input": "2024-11-20T11:54:36.316847Z",
     "iopub.status.busy": "2024-11-20T11:54:36.316115Z",
     "iopub.status.idle": "2024-11-20T11:54:36.405342Z",
     "shell.execute_reply": "2024-11-20T11:54:36.404223Z"
    },
    "papermill": {
     "duration": 0.098202,
     "end_time": "2024-11-20T11:54:36.407749",
     "exception": false,
     "start_time": "2024-11-20T11:54:36.309547",
     "status": "completed"
    },
    "tags": []
   },
   "outputs": [],
   "source": [
    "from sklearn.linear_model import LinearRegression\n",
    "model = LinearRegression()"
   ]
  },
  {
   "cell_type": "code",
   "execution_count": 16,
   "id": "ed064a36",
   "metadata": {
    "execution": {
     "iopub.execute_input": "2024-11-20T11:54:36.420339Z",
     "iopub.status.busy": "2024-11-20T11:54:36.419412Z",
     "iopub.status.idle": "2024-11-20T11:54:36.448523Z",
     "shell.execute_reply": "2024-11-20T11:54:36.447563Z"
    },
    "papermill": {
     "duration": 0.038555,
     "end_time": "2024-11-20T11:54:36.451701",
     "exception": false,
     "start_time": "2024-11-20T11:54:36.413146",
     "status": "completed"
    },
    "tags": []
   },
   "outputs": [],
   "source": [
    "model.fit(x_train , y_train)\n",
    "predicted = model.predict(x_test)"
   ]
  },
  {
   "cell_type": "code",
   "execution_count": 17,
   "id": "6649a97d",
   "metadata": {
    "execution": {
     "iopub.execute_input": "2024-11-20T11:54:36.472176Z",
     "iopub.status.busy": "2024-11-20T11:54:36.471712Z",
     "iopub.status.idle": "2024-11-20T11:54:36.484149Z",
     "shell.execute_reply": "2024-11-20T11:54:36.483192Z"
    },
    "papermill": {
     "duration": 0.026385,
     "end_time": "2024-11-20T11:54:36.487057",
     "exception": false,
     "start_time": "2024-11-20T11:54:36.460672",
     "status": "completed"
    },
    "tags": []
   },
   "outputs": [
    {
     "name": "stdout",
     "output_type": "stream",
     "text": [
      "0.741719357744212\n",
      "0.9849390093753657\n"
     ]
    }
   ],
   "source": [
    "from sklearn.metrics import mean_squared_error, r2_score\n",
    "rmse = mean_squared_error(y_test, predicted)\n",
    "r2 = r2_score(y_test, predicted)\n",
    "print(rmse)\n",
    "print(r2)"
   ]
  }
 ],
 "metadata": {
  "kaggle": {
   "accelerator": "none",
   "dataSources": [
    {
     "datasetId": 5825454,
     "sourceId": 9559728,
     "sourceType": "datasetVersion"
    }
   ],
   "dockerImageVersionId": 30786,
   "isGpuEnabled": false,
   "isInternetEnabled": true,
   "language": "python",
   "sourceType": "notebook"
  },
  "kernelspec": {
   "display_name": "Python 3",
   "language": "python",
   "name": "python3"
  },
  "language_info": {
   "codemirror_mode": {
    "name": "ipython",
    "version": 3
   },
   "file_extension": ".py",
   "mimetype": "text/x-python",
   "name": "python",
   "nbconvert_exporter": "python",
   "pygments_lexer": "ipython3",
   "version": "3.10.14"
  },
  "papermill": {
   "default_parameters": {},
   "duration": 6.738333,
   "end_time": "2024-11-20T11:54:37.118106",
   "environment_variables": {},
   "exception": null,
   "input_path": "__notebook__.ipynb",
   "output_path": "__notebook__.ipynb",
   "parameters": {},
   "start_time": "2024-11-20T11:54:30.379773",
   "version": "2.6.0"
  }
 },
 "nbformat": 4,
 "nbformat_minor": 5
}
